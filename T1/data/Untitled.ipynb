{
 "cells": [
  {
   "cell_type": "code",
   "execution_count": 1,
   "id": "2b96a73e",
   "metadata": {},
   "outputs": [],
   "source": [
    "import pandas as pd\n",
    "\n",
    "data = pd.read_csv('CombinedDatasetConservativeTWOSIDES.csv', encoding='latin-1', on_bad_lines='skip', sep=',')\n"
   ]
  },
  {
   "cell_type": "code",
   "execution_count": 2,
   "id": "551ad0d9",
   "metadata": {},
   "outputs": [
    {
     "data": {
      "text/html": [
       "<div>\n",
       "<style scoped>\n",
       "    .dataframe tbody tr th:only-of-type {\n",
       "        vertical-align: middle;\n",
       "    }\n",
       "\n",
       "    .dataframe tbody tr th {\n",
       "        vertical-align: top;\n",
       "    }\n",
       "\n",
       "    .dataframe thead th {\n",
       "        text-align: right;\n",
       "    }\n",
       "</style>\n",
       "<table border=\"1\" class=\"dataframe\">\n",
       "  <thead>\n",
       "    <tr style=\"text-align: right;\">\n",
       "      <th></th>\n",
       "      <th>drug1\\tobject\\tdrug2\\tprecipitant\\tcertainty\\tcontraindication\\tdateAnnotated\\tddiPkEffect\\tddiPkMechanism\\teffectConcept\\thomepage\\tlabel\\tnumericVal\\tobjectUri\\tpathway\\tprecaution\\tprecipUri\\tseverity\\turi\\twhoAnnotated\\tsource\\tddiType\\tevidence\\tevidenceSource\\tevidenceStatement\\tresearchStatementLabel\\tresearchStatement</th>\n",
       "    </tr>\n",
       "  </thead>\n",
       "  <tbody>\n",
       "    <tr>\n",
       "      <th>0</th>\n",
       "      <td>http://bio2rdf.org/drugbank:DB01175\\tescitalop...</td>\n",
       "    </tr>\n",
       "    <tr>\n",
       "      <th>1</th>\n",
       "      <td>http://bio2rdf.org/drugbank:DB01175\\tescitalop...</td>\n",
       "    </tr>\n",
       "    <tr>\n",
       "      <th>2</th>\n",
       "      <td>http://bio2rdf.org/drugbank:DB01175\\tescitalop...</td>\n",
       "    </tr>\n",
       "    <tr>\n",
       "      <th>3</th>\n",
       "      <td>http://bio2rdf.org/drugbank:DB01104\\tsertralin...</td>\n",
       "    </tr>\n",
       "    <tr>\n",
       "      <th>4</th>\n",
       "      <td>http://bio2rdf.org/drugbank:DB00404\\talprazola...</td>\n",
       "    </tr>\n",
       "    <tr>\n",
       "      <th>...</th>\n",
       "      <td>...</td>\n",
       "    </tr>\n",
       "    <tr>\n",
       "      <th>1009107</th>\n",
       "      <td>http://bio2rdf.org/drugbank:DB01012\\tCinacalce...</td>\n",
       "    </tr>\n",
       "    <tr>\n",
       "      <th>1009108</th>\n",
       "      <td>http://bio2rdf.org/drugbank:DB01012\\tCinacalce...</td>\n",
       "    </tr>\n",
       "    <tr>\n",
       "      <th>1009109</th>\n",
       "      <td>http://bio2rdf.org/drugbank:DB01012\\tCinacalce...</td>\n",
       "    </tr>\n",
       "    <tr>\n",
       "      <th>1009110</th>\n",
       "      <td>http://bio2rdf.org/drugbank:DB00658\\tSevelamer...</td>\n",
       "    </tr>\n",
       "    <tr>\n",
       "      <th>1009111</th>\n",
       "      <td>http://bio2rdf.org/drugbank:DB00658\\tSevelamer...</td>\n",
       "    </tr>\n",
       "  </tbody>\n",
       "</table>\n",
       "<p>1009112 rows × 1 columns</p>\n",
       "</div>"
      ],
      "text/plain": [
       "        drug1\\tobject\\tdrug2\\tprecipitant\\tcertainty\\tcontraindication\\tdateAnnotated\\tddiPkEffect\\tddiPkMechanism\\teffectConcept\\thomepage\\tlabel\\tnumericVal\\tobjectUri\\tpathway\\tprecaution\\tprecipUri\\tseverity\\turi\\twhoAnnotated\\tsource\\tddiType\\tevidence\\tevidenceSource\\tevidenceStatement\\tresearchStatementLabel\\tresearchStatement\n",
       "0        http://bio2rdf.org/drugbank:DB01175\\tescitalop...                                                                                                                                                                                                                                                                                     \n",
       "1        http://bio2rdf.org/drugbank:DB01175\\tescitalop...                                                                                                                                                                                                                                                                                     \n",
       "2        http://bio2rdf.org/drugbank:DB01175\\tescitalop...                                                                                                                                                                                                                                                                                     \n",
       "3        http://bio2rdf.org/drugbank:DB01104\\tsertralin...                                                                                                                                                                                                                                                                                     \n",
       "4        http://bio2rdf.org/drugbank:DB00404\\talprazola...                                                                                                                                                                                                                                                                                     \n",
       "...                                                    ...                                                                                                                                                                                                                                                                                     \n",
       "1009107  http://bio2rdf.org/drugbank:DB01012\\tCinacalce...                                                                                                                                                                                                                                                                                     \n",
       "1009108  http://bio2rdf.org/drugbank:DB01012\\tCinacalce...                                                                                                                                                                                                                                                                                     \n",
       "1009109  http://bio2rdf.org/drugbank:DB01012\\tCinacalce...                                                                                                                                                                                                                                                                                     \n",
       "1009110  http://bio2rdf.org/drugbank:DB00658\\tSevelamer...                                                                                                                                                                                                                                                                                     \n",
       "1009111  http://bio2rdf.org/drugbank:DB00658\\tSevelamer...                                                                                                                                                                                                                                                                                     \n",
       "\n",
       "[1009112 rows x 1 columns]"
      ]
     },
     "execution_count": 2,
     "metadata": {},
     "output_type": "execute_result"
    }
   ],
   "source": [
    "data"
   ]
  }
 ],
 "metadata": {
  "kernelspec": {
   "display_name": "Python 3 (ipykernel)",
   "language": "python",
   "name": "python3"
  },
  "language_info": {
   "codemirror_mode": {
    "name": "ipython",
    "version": 3
   },
   "file_extension": ".py",
   "mimetype": "text/x-python",
   "name": "python",
   "nbconvert_exporter": "python",
   "pygments_lexer": "ipython3",
   "version": "3.10.11"
  }
 },
 "nbformat": 4,
 "nbformat_minor": 5
}
