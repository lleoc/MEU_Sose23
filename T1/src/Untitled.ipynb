{
 "cells": [
  {
   "cell_type": "code",
   "execution_count": 28,
   "id": "49219196",
   "metadata": {},
   "outputs": [],
   "source": [
    "import pandas as pd\n",
    "import json\n",
    "\n",
    "def get_results_json(*drugs):\n",
    "    df = pd.read_csv('../data/CombinedDatasetConservativeTWOSIDES_critical.csv', delimiter='\\t')\n",
    "    interaction_dict = {}\n",
    "    for drug in drugs:\n",
    "        filtered_df = df[df['object']==drug]\n",
    "        drug_interactions = filtered_df['precipitant'].unique().tolist()\n",
    "        for drug2 in drugs:\n",
    "            if drug2 in drug_interactions:\n",
    "                interaction_dict[drug] = drug2\n",
    "                \n",
    "    # Write the dictionary to a JSON file\n",
    "    with open('result.json', 'w') as json_file:\n",
    "        json.dump(interaction_dict, json_file)\n",
    "    \n",
    "drugs = ['Efavirenz', 'Norgestimate', 'Rifampicin', 'Amprenavir', 'Fentanyl']\n",
    "get_results_json(*drugs)\n",
    "  "
   ]
  },
  {
   "cell_type": "code",
   "execution_count": 29,
   "id": "8fb7f5fe",
   "metadata": {},
   "outputs": [
    {
     "name": "stdout",
     "output_type": "stream",
     "text": [
      "{'Norgestimate': 'Amprenavir', 'Rifampicin': 'Amprenavir', 'Amprenavir': 'Fentanyl'}\n"
     ]
    }
   ],
   "source": [
    "# Access the data\n",
    "\n",
    "with open('result.json', 'r') as json_file:\n",
    "    data = json.load(json_file)\n",
    "\n",
    "print(data)"
   ]
  }
 ],
 "metadata": {
  "kernelspec": {
   "display_name": "Python 3 (ipykernel)",
   "language": "python",
   "name": "python3"
  },
  "language_info": {
   "codemirror_mode": {
    "name": "ipython",
    "version": 3
   },
   "file_extension": ".py",
   "mimetype": "text/x-python",
   "name": "python",
   "nbconvert_exporter": "python",
   "pygments_lexer": "ipython3",
   "version": "3.10.11"
  }
 },
 "nbformat": 4,
 "nbformat_minor": 5
}
