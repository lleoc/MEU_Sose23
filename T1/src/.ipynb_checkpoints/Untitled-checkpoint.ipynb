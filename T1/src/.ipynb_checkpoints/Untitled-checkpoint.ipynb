{
 "cells": [
  {
   "cell_type": "code",
   "execution_count": 11,
   "id": "193df852",
   "metadata": {},
   "outputs": [],
   "source": [
    "import pandas as pd\n",
    "\n",
    "df = pd.read_csv('../data/CombinedDatasetConservativeTWOSIDES_critical.csv', delimiter='\\t')\n",
    "drugs = ['Efavirenz', 'Norgestimate']\n",
    "results = []\n",
    "for drug in drugs:\n",
    "    filtered_df = df[df['object']==drug]\n",
    "    interactions = filtered_df['precipitant'].unique().tolist()\n",
    "    interaction_dict = {drug: interactions}\n",
    "    results.append(interaction_dict)\n",
    "\n",
    "    "
   ]
  },
  {
   "cell_type": "code",
   "execution_count": 12,
   "id": "e3879071",
   "metadata": {},
   "outputs": [
    {
     "data": {
      "text/plain": [
       "[{'Efavirenz': []},\n",
       " {'Norgestimate': ['Carbamazepine', 'Acitretin', 'Amprenavir']}]"
      ]
     },
     "execution_count": 12,
     "metadata": {},
     "output_type": "execute_result"
    }
   ],
   "source": [
    "results"
   ]
  }
 ],
 "metadata": {
  "kernelspec": {
   "display_name": "Python 3 (ipykernel)",
   "language": "python",
   "name": "python3"
  },
  "language_info": {
   "codemirror_mode": {
    "name": "ipython",
    "version": 3
   },
   "file_extension": ".py",
   "mimetype": "text/x-python",
   "name": "python",
   "nbconvert_exporter": "python",
   "pygments_lexer": "ipython3",
   "version": "3.10.11"
  }
 },
 "nbformat": 4,
 "nbformat_minor": 5
}
